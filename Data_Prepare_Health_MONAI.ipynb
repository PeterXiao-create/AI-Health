{
 "cells": [
  {
   "cell_type": "code",
   "execution_count": 16,
   "metadata": {},
   "outputs": [],
   "source": [
    "import pandas as pd\n",
    "from glob import glob\n",
    "import json\n",
    "import os\n",
    "import shutil\n",
    "import dicom2nifti"
   ]
  },
  {
   "cell_type": "code",
   "execution_count": 9,
   "metadata": {},
   "outputs": [
    {
     "name": "stdout",
     "output_type": "stream",
     "text": [
      "Collecting pytest-shutil\n",
      "  Downloading pytest_shutil-1.7.0-py2.py3-none-any.whl (15 kB)\n",
      "Requirement already satisfied: contextlib2 in /Users/pete/opt/anaconda3/lib/python3.8/site-packages (from pytest-shutil) (0.6.0.post1)\n",
      "Requirement already satisfied: pytest in /Users/pete/opt/anaconda3/lib/python3.8/site-packages (from pytest-shutil) (6.2.5)\n",
      "Requirement already satisfied: termcolor in /Users/pete/opt/anaconda3/lib/python3.8/site-packages (from pytest-shutil) (1.1.0)\n",
      "Collecting execnet\n",
      "  Downloading execnet-1.9.0-py2.py3-none-any.whl (39 kB)\n",
      "Requirement already satisfied: mock in /Users/pete/opt/anaconda3/lib/python3.8/site-packages (from pytest-shutil) (4.0.3)\n",
      "Requirement already satisfied: six in /Users/pete/opt/anaconda3/lib/python3.8/site-packages (from pytest-shutil) (1.16.0)\n",
      "Collecting path.py\n",
      "  Downloading path.py-12.5.0-py3-none-any.whl (2.3 kB)\n",
      "Requirement already satisfied: path in /Users/pete/opt/anaconda3/lib/python3.8/site-packages (from path.py->pytest-shutil) (16.2.0)\n",
      "Requirement already satisfied: attrs>=19.2.0 in /Users/pete/opt/anaconda3/lib/python3.8/site-packages (from pytest->pytest-shutil) (21.4.0)\n",
      "Requirement already satisfied: iniconfig in /Users/pete/opt/anaconda3/lib/python3.8/site-packages (from pytest->pytest-shutil) (1.1.1)\n",
      "Requirement already satisfied: packaging in /Users/pete/opt/anaconda3/lib/python3.8/site-packages (from pytest->pytest-shutil) (21.3)\n",
      "Requirement already satisfied: pluggy<2.0,>=0.12 in /Users/pete/opt/anaconda3/lib/python3.8/site-packages (from pytest->pytest-shutil) (1.0.0)\n",
      "Requirement already satisfied: py>=1.8.2 in /Users/pete/opt/anaconda3/lib/python3.8/site-packages (from pytest->pytest-shutil) (1.11.0)\n",
      "Requirement already satisfied: toml in /Users/pete/opt/anaconda3/lib/python3.8/site-packages (from pytest->pytest-shutil) (0.10.2)\n",
      "Requirement already satisfied: pyparsing!=3.0.5,>=2.0.2 in /Users/pete/opt/anaconda3/lib/python3.8/site-packages (from packaging->pytest->pytest-shutil) (3.0.4)\n",
      "Installing collected packages: path.py, execnet, pytest-shutil\n",
      "Successfully installed execnet-1.9.0 path.py-12.5.0 pytest-shutil-1.7.0\n",
      "\u001b[33mWARNING: You are using pip version 21.3.1; however, version 22.1.2 is available.\n",
      "You should consider upgrading via the '/Users/pete/opt/anaconda3/bin/python -m pip install --upgrade pip' command.\u001b[0m\n"
     ]
    }
   ],
   "source": [
    "# !pip install pytest-shutil\n",
    "# !pip install dicom2nifti"
   ]
  },
  {
   "cell_type": "markdown",
   "metadata": {},
   "source": [
    "# CREATE FILES"
   ]
  },
  {
   "cell_type": "code",
   "execution_count": null,
   "metadata": {},
   "outputs": [],
   "source": [
    "os.chdir('./Task03_Liver')"
   ]
  },
  {
   "cell_type": "code",
   "execution_count": 28,
   "metadata": {},
   "outputs": [],
   "source": [
    "paths ={\n",
    "    'DICOM_GROUPS_IMAGES_FOLDER_PATH':os.path.join('dicom_groups', 'images'),\n",
    "    'DICOM_GROUPS_LABELS_FOLDER_PATH':os.path.join('dicom_groups', 'labels'),\n",
    "    'DICOM_FILE_IMAGES_FOLDER_PATH':os.path.join('dicom_file', 'images'),\n",
    "    'DICOM_FILE_LABELS_FOLDER_PATH':os.path.join('dicom_file', 'labels'),\n",
    "    'NIFTI_FILE_IMAGES_FOLDER_PATH':os.path.join('nifti_files', 'images'),\n",
    "    'NIFTI_FILE_LABELS_FOLDER_PATH':os.path.join('nifti_files', 'labels')\n",
    "}"
   ]
  },
  {
   "cell_type": "code",
   "execution_count": 29,
   "metadata": {},
   "outputs": [],
   "source": [
    "for path in paths.values():\n",
    "    if not os.path.exists(path):\n",
    "        if os.name == 'posix':\n",
    "            !mkdir -p {path}\n",
    "        if os.name == 'nt':\n",
    "            !mkdir {path}"
   ]
  },
  {
   "cell_type": "markdown",
   "metadata": {},
   "source": [
    "# CREATE GROUPS of 65 SLICES \n",
    "## (THE SMALLEST SLICES NUMBER)"
   ]
  },
  {
   "cell_type": "code",
   "execution_count": 20,
   "metadata": {},
   "outputs": [
    {
     "name": "stdout",
     "output_type": "stream",
     "text": [
      "dicom_file/images/liver_0\n",
      "['dicom_file/images/liver_0/IMG0056.dcm', 'dicom_file/images/liver_0/IMG0042.dcm', 'dicom_file/images/liver_0/IMG0043.dcm', 'dicom_file/images/liver_0/IMG0057.dcm', 'dicom_file/images/liver_0/IMG0041.dcm', 'dicom_file/images/liver_0/IMG0055.dcm', 'dicom_file/images/liver_0/IMG0069.dcm', 'dicom_file/images/liver_0/IMG0068.dcm', 'dicom_file/images/liver_0/IMG0054.dcm', 'dicom_file/images/liver_0/IMG0040.dcm', 'dicom_file/images/liver_0/IMG0044.dcm', 'dicom_file/images/liver_0/IMG0050.dcm', 'dicom_file/images/liver_0/IMG0051.dcm', 'dicom_file/images/liver_0/IMG0045.dcm', 'dicom_file/images/liver_0/IMG0053.dcm', 'dicom_file/images/liver_0/IMG0047.dcm', 'dicom_file/images/liver_0/IMG0046.dcm', 'dicom_file/images/liver_0/IMG0052.dcm', 'dicom_file/images/liver_0/IMG0035.dcm', 'dicom_file/images/liver_0/IMG0021.dcm', 'dicom_file/images/liver_0/IMG0009.dcm', 'dicom_file/images/liver_0/IMG0008.dcm', 'dicom_file/images/liver_0/IMG0020.dcm', 'dicom_file/images/liver_0/IMG0034.dcm', 'dicom_file/images/liver_0/IMG0022.dcm', 'dicom_file/images/liver_0/IMG0036.dcm', 'dicom_file/images/liver_0/IMG0037.dcm', 'dicom_file/images/liver_0/IMG0023.dcm', 'dicom_file/images/liver_0/IMG0027.dcm', 'dicom_file/images/liver_0/IMG0033.dcm', 'dicom_file/images/liver_0/IMG0032.dcm', 'dicom_file/images/liver_0/IMG0026.dcm', 'dicom_file/images/liver_0/IMG0018.dcm', 'dicom_file/images/liver_0/IMG0030.dcm', 'dicom_file/images/liver_0/IMG0024.dcm', 'dicom_file/images/liver_0/IMG0025.dcm', 'dicom_file/images/liver_0/IMG0031.dcm', 'dicom_file/images/liver_0/IMG0019.dcm', 'dicom_file/images/liver_0/IMG0014.dcm', 'dicom_file/images/liver_0/IMG0028.dcm', 'dicom_file/images/liver_0/IMG0029.dcm', 'dicom_file/images/liver_0/IMG0001.dcm', 'dicom_file/images/liver_0/IMG0015.dcm', 'dicom_file/images/liver_0/IMG0003.dcm', 'dicom_file/images/liver_0/IMG0017.dcm', 'dicom_file/images/liver_0/IMG0016.dcm', 'dicom_file/images/liver_0/IMG0002.dcm', 'dicom_file/images/liver_0/IMG0006.dcm', 'dicom_file/images/liver_0/IMG0012.dcm', 'dicom_file/images/liver_0/IMG0013.dcm', 'dicom_file/images/liver_0/IMG0007.dcm', 'dicom_file/images/liver_0/IMG0039.dcm', 'dicom_file/images/liver_0/IMG0011.dcm', 'dicom_file/images/liver_0/IMG0005.dcm', 'dicom_file/images/liver_0/IMG0004.dcm', 'dicom_file/images/liver_0/IMG0010.dcm', 'dicom_file/images/liver_0/IMG0038.dcm', 'dicom_file/images/liver_0/IMG0063.dcm', 'dicom_file/images/liver_0/IMG0062.dcm', 'dicom_file/images/liver_0/IMG0060.dcm', 'dicom_file/images/liver_0/IMG0074.dcm', 'dicom_file/images/liver_0/IMG0048.dcm', 'dicom_file/images/liver_0/IMG0049.dcm', 'dicom_file/images/liver_0/IMG0075.dcm', 'dicom_file/images/liver_0/IMG0061.dcm', 'dicom_file/images/liver_0/IMG0059.dcm', 'dicom_file/images/liver_0/IMG0065.dcm', 'dicom_file/images/liver_0/IMG0071.dcm', 'dicom_file/images/liver_0/IMG0070.dcm', 'dicom_file/images/liver_0/IMG0064.dcm', 'dicom_file/images/liver_0/IMG0058.dcm', 'dicom_file/images/liver_0/IMG0072.dcm', 'dicom_file/images/liver_0/IMG0066.dcm', 'dicom_file/images/liver_0/IMG0067.dcm', 'dicom_file/images/liver_0/IMG0073.dcm']\n"
     ]
    }
   ],
   "source": [
    "patient_list = glob(paths['DICOM_FILE_IMAGES_FOLDER_PATH'] + '/*')\n",
    "print(patient_list[0])\n",
    "slices = glob(patient_list[0]+'/*')\n",
    "print(slices)"
   ]
  },
  {
   "cell_type": "markdown",
   "metadata": {},
   "source": [
    "### Labels 65 Slices"
   ]
  },
  {
   "cell_type": "code",
   "execution_count": 9,
   "metadata": {},
   "outputs": [],
   "source": [
    "for patient in glob(paths['DICOM_FILE_LABELS_FOLDER_PATH'] + '/*'):\n",
    "    patient_name = os.path.basename(os.path.normpath(patient))\n",
    "    number_folders = int(len(glob(patient+'/*'))/64)\n",
    "\n",
    "    for i in range(number_folders):\n",
    "        output_path_name = os.path.join(paths['DICOM_GROUPS_LABELS_FOLDER_PATH'], patient_name+\"_\"+str(i))\n",
    "        os.mkdir(output_path_name)\n",
    "        for i, file in enumerate(glob(patient + '/*')):\n",
    "            if i == 64 + 1: # determine the amount of slices\n",
    "                break\n",
    "            shutil.move(file,output_path_name)"
   ]
  },
  {
   "cell_type": "code",
   "execution_count": 10,
   "metadata": {},
   "outputs": [
    {
     "name": "stdout",
     "output_type": "stream",
     "text": [
      "dicom_groups/labels/liver_1_0\n"
     ]
    }
   ],
   "source": [
    "print(output_path_name)"
   ]
  },
  {
   "cell_type": "code",
   "execution_count": 11,
   "metadata": {},
   "outputs": [
    {
     "name": "stdout",
     "output_type": "stream",
     "text": [
      "65\n"
     ]
    }
   ],
   "source": [
    "print(len(glob(output_path_name + '/*')))"
   ]
  },
  {
   "cell_type": "markdown",
   "metadata": {},
   "source": [
    "### Images 65 Slices"
   ]
  },
  {
   "cell_type": "code",
   "execution_count": 13,
   "metadata": {},
   "outputs": [],
   "source": [
    "for patient in glob(paths['DICOM_FILE_IMAGES_FOLDER_PATH'] + '/*'):\n",
    "    patient_name = os.path.basename(os.path.normpath(patient))\n",
    "    number_folders = int(len(glob(patient+'/*'))/64)\n",
    "\n",
    "    for i in range(number_folders):\n",
    "        output_path_name = os.path.join(paths['DICOM_GROUPS_IMAGES_FOLDER_PATH'], patient_name+\"_\"+str(i))\n",
    "        os.mkdir(output_path_name)\n",
    "        for i, file in enumerate(glob(patient + '/*')):\n",
    "            if i == 64 + 1: # determine the amount of slices\n",
    "                break\n",
    "            shutil.move(file,output_path_name)"
   ]
  },
  {
   "cell_type": "markdown",
   "metadata": {},
   "source": [
    "# Convert the dicom files into nifities"
   ]
  },
  {
   "cell_type": "code",
   "execution_count": 36,
   "metadata": {},
   "outputs": [],
   "source": [
    "INPUT_IMAGES_PATH = './dicom_groups/images/*'\n",
    "INPUT_LABELS_PATH = './dicom_groups/labels/*'\n",
    "OUTPUT_IMAGES_PATH = './nifti_files/images'\n",
    "OUTPUT_LABELS_PATH = './nifti_files/labels'\n",
    "\n",
    "list_images = glob(INPUT_IMAGES_PATH)\n",
    "list_labels = glob(INPUT_LABELS_PATH)"
   ]
  },
  {
   "cell_type": "code",
   "execution_count": 39,
   "metadata": {},
   "outputs": [
    {
     "data": {
      "text/plain": [
       "['./dicom_groups/images/liver_0_0', './dicom_groups/images/liver_1_0']"
      ]
     },
     "execution_count": 39,
     "metadata": {},
     "output_type": "execute_result"
    }
   ],
   "source": [
    "list_images"
   ]
  },
  {
   "cell_type": "markdown",
   "metadata": {},
   "source": [
    "### IMAGES"
   ]
  },
  {
   "cell_type": "code",
   "execution_count": 43,
   "metadata": {},
   "outputs": [],
   "source": [
    "# handle error: ConversionValidationError: SLICE_INCREMENT_INCONSISTENT\n",
    "import dicom2nifti.settings as settings\n",
    "\n",
    "settings.disable_validate_slice_increment()\n"
   ]
  },
  {
   "cell_type": "code",
   "execution_count": 44,
   "metadata": {},
   "outputs": [],
   "source": [
    "file_error = []\n",
    "try:\n",
    "     for patient in list_images:\n",
    "          patient_name = os.path.basename(os.path.normpath(patient))\n",
    "          dicom2nifti.dicom_series_to_nifti(patient, os.path.join(OUTPUT_IMAGES_PATH, patient_name + '.nii.gz'))\n",
    "\n",
    "except dicom2nifti.exceptions.ConversionValidationError:\n",
    "          file_error.append(patient_name)\n",
    "          pass "
   ]
  },
  {
   "cell_type": "markdown",
   "metadata": {},
   "source": [
    "### LABELS"
   ]
  },
  {
   "cell_type": "code",
   "execution_count": null,
   "metadata": {},
   "outputs": [],
   "source": [
    "for patient in list_labels:\n",
    "          patient_name = os.path.basename(os.path.normpath(patient))\n",
    "          dicom2nifti.dicom_series_to_nifti(patient, os.path.join(OUTPUT_LABELS_PATH, patient_name + '.nii.gz'))"
   ]
  },
  {
   "cell_type": "code",
   "execution_count": null,
   "metadata": {},
   "outputs": [],
   "source": []
  }
 ],
 "metadata": {
  "interpreter": {
   "hash": "2ec1a45370635f262e5b512ff7193f53a88dc102a83db2540dace0f9e4b4c65b"
  },
  "kernelspec": {
   "display_name": "Python 3.8.3 ('base')",
   "language": "python",
   "name": "python3"
  },
  "language_info": {
   "codemirror_mode": {
    "name": "ipython",
    "version": 3
   },
   "file_extension": ".py",
   "mimetype": "text/x-python",
   "name": "python",
   "nbconvert_exporter": "python",
   "pygments_lexer": "ipython3",
   "version": "3.8.3"
  },
  "orig_nbformat": 4
 },
 "nbformat": 4,
 "nbformat_minor": 2
}
